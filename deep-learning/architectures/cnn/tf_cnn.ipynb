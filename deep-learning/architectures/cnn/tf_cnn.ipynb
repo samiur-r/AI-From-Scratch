{
  "nbformat": 4,
  "nbformat_minor": 0,
  "metadata": {
    "colab": {
      "provenance": []
    },
    "kernelspec": {
      "name": "python3",
      "display_name": "Python 3"
    },
    "language_info": {
      "name": "python"
    }
  },
  "cells": [
    {
      "cell_type": "code",
      "execution_count": 26,
      "metadata": {
        "id": "Ri4syFK3wgVB"
      },
      "outputs": [],
      "source": [
        "from tensorflow.keras.models import Sequential\n",
        "from tensorflow.keras.layers import Dense, Dropout, Conv2D, MaxPooling2D, Flatten\n",
        "from tensorflow.keras.utils import to_categorical\n",
        "from tensorflow.keras.datasets import mnist"
      ]
    },
    {
      "cell_type": "code",
      "source": [
        "(x_train, y_train), (x_test, y_test) = mnist.load_data()"
      ],
      "metadata": {
        "id": "Fnyu2dCC6YUl"
      },
      "execution_count": 27,
      "outputs": []
    },
    {
      "cell_type": "markdown",
      "source": [
        "# PREPROCESSING"
      ],
      "metadata": {
        "id": "SQ91znhu9Dun"
      }
    },
    {
      "cell_type": "code",
      "source": [
        "# 1. Flatten the 28x28 images to 1D arrays (784 features)\n",
        "x_train_flat = x_train.reshape(x_train.shape[0], -1)  # (60000, 784)\n",
        "x_test_flat = x_test.reshape(x_test.shape[0], -1)     # (10000, 784)\n",
        "\n",
        "# For CNN: Keep 2D shape and add channel dimension, then normalize\n",
        "x_train_cnn = x_train.reshape(x_train.shape[0], 28, 28, 1).astype('float32') / 255.0\n",
        "x_test_cnn = x_test.reshape(x_test.shape[0], 28, 28, 1).astype('float32') / 255.0\n",
        "\n",
        "# 2. Normalize pixel values from [0, 255] to [0, 1]\n",
        "x_train_normalized = x_train_flat.astype('float32') / 255.0\n",
        "x_test_normalized = x_test_flat.astype('float32') / 255.0\n",
        "\n",
        "# 3. One-hot encode labels (optional, but recommended for categorical crossentropy)\n",
        "y_train_onehot = to_categorical(y_train, 10)\n",
        "y_test_onehot = to_categorical(y_test, 10)"
      ],
      "metadata": {
        "id": "t2opYB4p66VQ"
      },
      "execution_count": 28,
      "outputs": []
    },
    {
      "cell_type": "markdown",
      "source": [
        "# Train dense-only NN"
      ],
      "metadata": {
        "id": "uDRsUdvM9Uu2"
      }
    },
    {
      "cell_type": "code",
      "source": [
        "dense_model = Sequential([\n",
        "    # Input layer - explicitly define input shape\n",
        "    Dense(128, activation='relu', input_shape=(784,)),\n",
        "\n",
        "    # Hidden layers\n",
        "    Dense(64, activation='relu'),\n",
        "    Dropout(0.2),\n",
        "\n",
        "    Dense(32, activation='relu'),\n",
        "    Dropout(0.2),\n",
        "\n",
        "    Dense(10, activation='softmax')\n",
        "])"
      ],
      "metadata": {
        "id": "8AurDEFi8HxF"
      },
      "execution_count": 29,
      "outputs": []
    },
    {
      "cell_type": "code",
      "source": [
        "dense_model.compile(\n",
        "    optimizer='adam',\n",
        "    loss='categorical_crossentropy',  # Use with one-hot encoded labels\n",
        "    metrics=['accuracy']\n",
        ")"
      ],
      "metadata": {
        "id": "Dv8Q0kUx_nNp"
      },
      "execution_count": 30,
      "outputs": []
    },
    {
      "cell_type": "code",
      "source": [
        "print(\"\\nTraining model...\")\n",
        "history = dense_model.fit(\n",
        "    x_train_normalized, y_train_onehot,\n",
        "    batch_size=128,\n",
        "    epochs=10,\n",
        "    validation_split=0.1,  # Use 10% of training data for validation\n",
        "    verbose=1\n",
        ")"
      ],
      "metadata": {
        "colab": {
          "base_uri": "https://localhost:8080/"
        },
        "id": "sK1QARKBAADB",
        "outputId": "048bf43a-93f1-4f73-f5b6-03412e41e919"
      },
      "execution_count": 31,
      "outputs": [
        {
          "output_type": "stream",
          "name": "stdout",
          "text": [
            "\n",
            "Training model...\n",
            "Epoch 1/10\n",
            "\u001b[1m422/422\u001b[0m \u001b[32m━━━━━━━━━━━━━━━━━━━━\u001b[0m\u001b[37m\u001b[0m \u001b[1m5s\u001b[0m 7ms/step - accuracy: 0.6933 - loss: 0.9521 - val_accuracy: 0.9582 - val_loss: 0.1456\n",
            "Epoch 2/10\n",
            "\u001b[1m422/422\u001b[0m \u001b[32m━━━━━━━━━━━━━━━━━━━━\u001b[0m\u001b[37m\u001b[0m \u001b[1m3s\u001b[0m 8ms/step - accuracy: 0.9375 - loss: 0.2214 - val_accuracy: 0.9672 - val_loss: 0.1091\n",
            "Epoch 3/10\n",
            "\u001b[1m422/422\u001b[0m \u001b[32m━━━━━━━━━━━━━━━━━━━━\u001b[0m\u001b[37m\u001b[0m \u001b[1m4s\u001b[0m 10ms/step - accuracy: 0.9554 - loss: 0.1597 - val_accuracy: 0.9710 - val_loss: 0.0972\n",
            "Epoch 4/10\n",
            "\u001b[1m422/422\u001b[0m \u001b[32m━━━━━━━━━━━━━━━━━━━━\u001b[0m\u001b[37m\u001b[0m \u001b[1m4s\u001b[0m 9ms/step - accuracy: 0.9648 - loss: 0.1244 - val_accuracy: 0.9765 - val_loss: 0.0807\n",
            "Epoch 5/10\n",
            "\u001b[1m422/422\u001b[0m \u001b[32m━━━━━━━━━━━━━━━━━━━━\u001b[0m\u001b[37m\u001b[0m \u001b[1m4s\u001b[0m 7ms/step - accuracy: 0.9730 - loss: 0.0983 - val_accuracy: 0.9753 - val_loss: 0.0867\n",
            "Epoch 6/10\n",
            "\u001b[1m422/422\u001b[0m \u001b[32m━━━━━━━━━━━━━━━━━━━━\u001b[0m\u001b[37m\u001b[0m \u001b[1m3s\u001b[0m 7ms/step - accuracy: 0.9774 - loss: 0.0830 - val_accuracy: 0.9763 - val_loss: 0.0843\n",
            "Epoch 7/10\n",
            "\u001b[1m422/422\u001b[0m \u001b[32m━━━━━━━━━━━━━━━━━━━━\u001b[0m\u001b[37m\u001b[0m \u001b[1m4s\u001b[0m 8ms/step - accuracy: 0.9786 - loss: 0.0724 - val_accuracy: 0.9777 - val_loss: 0.0846\n",
            "Epoch 8/10\n",
            "\u001b[1m422/422\u001b[0m \u001b[32m━━━━━━━━━━━━━━━━━━━━\u001b[0m\u001b[37m\u001b[0m \u001b[1m3s\u001b[0m 7ms/step - accuracy: 0.9826 - loss: 0.0615 - val_accuracy: 0.9787 - val_loss: 0.0780\n",
            "Epoch 9/10\n",
            "\u001b[1m422/422\u001b[0m \u001b[32m━━━━━━━━━━━━━━━━━━━━\u001b[0m\u001b[37m\u001b[0m \u001b[1m3s\u001b[0m 6ms/step - accuracy: 0.9845 - loss: 0.0541 - val_accuracy: 0.9767 - val_loss: 0.0851\n",
            "Epoch 10/10\n",
            "\u001b[1m422/422\u001b[0m \u001b[32m━━━━━━━━━━━━━━━━━━━━\u001b[0m\u001b[37m\u001b[0m \u001b[1m5s\u001b[0m 6ms/step - accuracy: 0.9858 - loss: 0.0498 - val_accuracy: 0.9792 - val_loss: 0.0819\n"
          ]
        }
      ]
    },
    {
      "cell_type": "code",
      "source": [
        "print(\"\\nEvaluating on test set...\")\n",
        "test_loss, test_accuracy = dense_model.evaluate(x_test_normalized, y_test_onehot, verbose=0)\n",
        "print(f\"Test accuracy: {test_accuracy:.4f}\")"
      ],
      "metadata": {
        "colab": {
          "base_uri": "https://localhost:8080/"
        },
        "id": "Ei3J5zanAQCF",
        "outputId": "8b8df824-6545-4e23-f234-14a7a9d9a03c"
      },
      "execution_count": 22,
      "outputs": [
        {
          "output_type": "stream",
          "name": "stdout",
          "text": [
            "\n",
            "Evaluating on test set...\n",
            "Test accuracy: 0.9781\n"
          ]
        }
      ]
    },
    {
      "cell_type": "markdown",
      "source": [
        "# Train CNN"
      ],
      "metadata": {
        "id": "xZhTkNRJAznH"
      }
    },
    {
      "cell_type": "code",
      "source": [
        "cnn_model = Sequential([\n",
        "    Conv2D(\n",
        "        filters=32,           # Number of feature maps\n",
        "        kernel_size=(3, 3),   # 3x3 filter\n",
        "        activation='relu',\n",
        "        input_shape=(28, 28, 1)\n",
        "    ),\n",
        "\n",
        "    # Max Pooling: Reduce spatial dimensions\n",
        "    MaxPooling2D(\n",
        "        pool_size=(2, 2)      # 2x2 pooling\n",
        "    ),\n",
        "\n",
        "    # Flatten: Convert 2D feature maps to 1D for dense layer\n",
        "    Flatten(),\n",
        "\n",
        "    # Dense Layer: Classification\n",
        "    Dense(64, activation='relu'),\n",
        "    Dropout(0.2),\n",
        "    Dense(10, activation='softmax')\n",
        "], name=\"Simple_CNN\")"
      ],
      "metadata": {
        "colab": {
          "base_uri": "https://localhost:8080/"
        },
        "id": "S99Y9AWMA328",
        "outputId": "c09e9c13-34c5-4672-b66d-b744fcc67c68"
      },
      "execution_count": 23,
      "outputs": [
        {
          "output_type": "stream",
          "name": "stderr",
          "text": [
            "/usr/local/lib/python3.12/dist-packages/keras/src/layers/convolutional/base_conv.py:113: UserWarning: Do not pass an `input_shape`/`input_dim` argument to a layer. When using Sequential models, prefer using an `Input(shape)` object as the first layer in the model instead.\n",
            "  super().__init__(activity_regularizer=activity_regularizer, **kwargs)\n"
          ]
        }
      ]
    },
    {
      "cell_type": "code",
      "source": [
        "cnn_model.compile(\n",
        "    optimizer='adam',\n",
        "    loss='categorical_crossentropy',\n",
        "    metrics=['accuracy']\n",
        ")"
      ],
      "metadata": {
        "id": "rzU1sKNYTz5W"
      },
      "execution_count": 24,
      "outputs": []
    },
    {
      "cell_type": "code",
      "source": [
        "cnn_history = cnn_model.fit(\n",
        "    x_train_cnn, y_train_onehot,\n",
        "    batch_size=128,\n",
        "    epochs=5,  # Same number of epochs\n",
        "    validation_split=0.1,\n",
        "    verbose=1\n",
        ")\n"
      ],
      "metadata": {
        "colab": {
          "base_uri": "https://localhost:8080/"
        },
        "id": "1hAAHMnqT5fv",
        "outputId": "d276a275-d5db-43ac-813c-06d9536f12cf"
      },
      "execution_count": 25,
      "outputs": [
        {
          "output_type": "stream",
          "name": "stdout",
          "text": [
            "Epoch 1/5\n",
            "\u001b[1m422/422\u001b[0m \u001b[32m━━━━━━━━━━━━━━━━━━━━\u001b[0m\u001b[37m\u001b[0m \u001b[1m31s\u001b[0m 67ms/step - accuracy: 0.8342 - loss: 0.5756 - val_accuracy: 0.9737 - val_loss: 0.0945\n",
            "Epoch 2/5\n",
            "\u001b[1m422/422\u001b[0m \u001b[32m━━━━━━━━━━━━━━━━━━━━\u001b[0m\u001b[37m\u001b[0m \u001b[1m29s\u001b[0m 68ms/step - accuracy: 0.9659 - loss: 0.1201 - val_accuracy: 0.9840 - val_loss: 0.0604\n",
            "Epoch 3/5\n",
            "\u001b[1m422/422\u001b[0m \u001b[32m━━━━━━━━━━━━━━━━━━━━\u001b[0m\u001b[37m\u001b[0m \u001b[1m30s\u001b[0m 71ms/step - accuracy: 0.9778 - loss: 0.0756 - val_accuracy: 0.9845 - val_loss: 0.0582\n",
            "Epoch 4/5\n",
            "\u001b[1m422/422\u001b[0m \u001b[32m━━━━━━━━━━━━━━━━━━━━\u001b[0m\u001b[37m\u001b[0m \u001b[1m37s\u001b[0m 61ms/step - accuracy: 0.9829 - loss: 0.0577 - val_accuracy: 0.9848 - val_loss: 0.0513\n",
            "Epoch 5/5\n",
            "\u001b[1m422/422\u001b[0m \u001b[32m━━━━━━━━━━━━━━━━━━━━\u001b[0m\u001b[37m\u001b[0m \u001b[1m25s\u001b[0m 58ms/step - accuracy: 0.9852 - loss: 0.0484 - val_accuracy: 0.9883 - val_loss: 0.0444\n"
          ]
        }
      ]
    },
    {
      "cell_type": "code",
      "source": [
        "cnn_loss, cnn_accuracy = cnn_model.evaluate(x_test_cnn, y_test_onehot, verbose=0)\n",
        "print(f\"Simple CNN Test Accuracy: {cnn_accuracy:.4f} ({cnn_accuracy*100:.2f}%)\")"
      ],
      "metadata": {
        "colab": {
          "base_uri": "https://localhost:8080/"
        },
        "id": "cOlkeOiWUnrW",
        "outputId": "0e5facaf-45e8-4e69-8a37-1da608c71f84"
      },
      "execution_count": 32,
      "outputs": [
        {
          "output_type": "stream",
          "name": "stdout",
          "text": [
            "Simple CNN Test Accuracy: 0.9848 (98.48%)\n"
          ]
        }
      ]
    }
  ]
}