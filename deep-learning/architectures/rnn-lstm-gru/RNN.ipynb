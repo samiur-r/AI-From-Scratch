{
  "nbformat": 4,
  "nbformat_minor": 0,
  "metadata": {
    "colab": {
      "provenance": []
    },
    "kernelspec": {
      "name": "python3",
      "display_name": "Python 3"
    },
    "language_info": {
      "name": "python"
    }
  },
  "cells": [
    {
      "cell_type": "code",
      "execution_count": 4,
      "metadata": {
        "id": "L_ZVq3ftb7cL"
      },
      "outputs": [],
      "source": [
        "from tensorflow.keras.models import Sequential\n",
        "from tensorflow.keras.layers import Dense, Dropout, SimpleRNN, LSTM, Embedding\n",
        "from tensorflow.keras.utils import to_categorical\n",
        "from tensorflow.keras.datasets import imdb\n",
        "from tensorflow.keras.preprocessing.sequence import pad_sequences"
      ]
    },
    {
      "cell_type": "code",
      "source": [
        "np.random.seed(42)"
      ],
      "metadata": {
        "id": "DYSMySnycA3R"
      },
      "execution_count": 5,
      "outputs": []
    },
    {
      "cell_type": "code",
      "source": [
        "print(\"Loading IMDB dataset...\")\n",
        "vocab_size = 5000  # Use top 5000 most frequent words\n",
        "(X_train, y_train), (X_test, y_test) = imdb.load_data(num_words=vocab_size)\n",
        "\n",
        "# Pad sequences to same length\n",
        "max_length = 200  # Limit to 200 words per review\n",
        "X_train_padded = pad_sequences(X_train, maxlen=max_length, padding='post')\n",
        "X_test_padded = pad_sequences(X_test, maxlen=max_length, padding='post')"
      ],
      "metadata": {
        "colab": {
          "base_uri": "https://localhost:8080/"
        },
        "id": "5VZG1QPYd7un",
        "outputId": "ce0f205f-6f2a-48fc-a26d-dd84fbd70de4"
      },
      "execution_count": 7,
      "outputs": [
        {
          "output_type": "stream",
          "name": "stdout",
          "text": [
            "Loading IMDB dataset...\n"
          ]
        }
      ]
    },
    {
      "cell_type": "markdown",
      "source": [
        "# Train Simple RNN on IMDB"
      ],
      "metadata": {
        "id": "JLKuzieWeuvo"
      }
    },
    {
      "cell_type": "code",
      "source": [
        "rnn_model = Sequential([\n",
        "    Embedding(vocab_size, 64, input_length=max_length),  # Convert words to dense vectors\n",
        "    SimpleRNN(32, dropout=0.2, recurrent_dropout=0.2),\n",
        "    Dense(1, activation='sigmoid')  # Binary classification\n",
        "], name=\"RNN_IMDB\")"
      ],
      "metadata": {
        "colab": {
          "base_uri": "https://localhost:8080/"
        },
        "id": "dYXCZFcceOQX",
        "outputId": "63a6269c-4bb9-4240-8fef-b937b8562e7e"
      },
      "execution_count": 8,
      "outputs": [
        {
          "output_type": "stream",
          "name": "stderr",
          "text": [
            "/usr/local/lib/python3.12/dist-packages/keras/src/layers/core/embedding.py:97: UserWarning: Argument `input_length` is deprecated. Just remove it.\n",
            "  warnings.warn(\n"
          ]
        }
      ]
    },
    {
      "cell_type": "code",
      "source": [
        "rnn_model.compile(\n",
        "    optimizer='adam',\n",
        "    loss='binary_crossentropy',\n",
        "    metrics=['accuracy']\n",
        ")"
      ],
      "metadata": {
        "id": "CHFzaZnEeh1B"
      },
      "execution_count": 9,
      "outputs": []
    },
    {
      "cell_type": "code",
      "source": [
        "rnn_history = rnn_model.fit(\n",
        "    X_train_padded, y_train,\n",
        "    batch_size=32,\n",
        "    epochs=3,  # Quick training\n",
        "    validation_split=0.2,\n",
        "    verbose=1\n",
        ")"
      ],
      "metadata": {
        "colab": {
          "base_uri": "https://localhost:8080/"
        },
        "id": "BqhPH6S7ekid",
        "outputId": "7d94c786-afd9-433a-d0fa-325c4ad98422"
      },
      "execution_count": 10,
      "outputs": [
        {
          "output_type": "stream",
          "name": "stdout",
          "text": [
            "Epoch 1/3\n",
            "\u001b[1m625/625\u001b[0m \u001b[32m━━━━━━━━━━━━━━━━━━━━\u001b[0m\u001b[37m\u001b[0m \u001b[1m31s\u001b[0m 46ms/step - accuracy: 0.5108 - loss: 0.7132 - val_accuracy: 0.5134 - val_loss: 0.6905\n",
            "Epoch 2/3\n",
            "\u001b[1m625/625\u001b[0m \u001b[32m━━━━━━━━━━━━━━━━━━━━\u001b[0m\u001b[37m\u001b[0m \u001b[1m41s\u001b[0m 47ms/step - accuracy: 0.5093 - loss: 0.6945 - val_accuracy: 0.5196 - val_loss: 0.6888\n",
            "Epoch 3/3\n",
            "\u001b[1m625/625\u001b[0m \u001b[32m━━━━━━━━━━━━━━━━━━━━\u001b[0m\u001b[37m\u001b[0m \u001b[1m30s\u001b[0m 47ms/step - accuracy: 0.5405 - loss: 0.6857 - val_accuracy: 0.5260 - val_loss: 0.6859\n"
          ]
        }
      ]
    },
    {
      "cell_type": "code",
      "source": [
        "rnn_loss, rnn_accuracy = rnn_model.evaluate(X_test_padded, y_test, verbose=0)\n",
        "print(f\"RNN Test Accuracy: {rnn_accuracy:.4f} ({rnn_accuracy*100:.2f}%)\")"
      ],
      "metadata": {
        "colab": {
          "base_uri": "https://localhost:8080/"
        },
        "id": "kzhtP7R2esiW",
        "outputId": "acc8c48f-140d-4e3f-f725-0e2a502bb9f2"
      },
      "execution_count": 11,
      "outputs": [
        {
          "output_type": "stream",
          "name": "stdout",
          "text": [
            "RNN Test Accuracy: 0.5167 (51.67%)\n"
          ]
        }
      ]
    },
    {
      "cell_type": "markdown",
      "source": [
        "# Train LSTM on IMDB"
      ],
      "metadata": {
        "id": "gO8dWoYfez4S"
      }
    },
    {
      "cell_type": "code",
      "source": [
        "lstm_model = Sequential([\n",
        "    Embedding(vocab_size, 64, input_length=max_length),\n",
        "    LSTM(32, dropout=0.2, recurrent_dropout=0.2),\n",
        "    Dense(1, activation='sigmoid')\n",
        "], name=\"LSTM_IMDB\")"
      ],
      "metadata": {
        "id": "TmkNDUQee2mY"
      },
      "execution_count": 12,
      "outputs": []
    },
    {
      "cell_type": "code",
      "source": [
        "lstm_model.compile(\n",
        "    optimizer='adam',\n",
        "    loss='binary_crossentropy',\n",
        "    metrics=['accuracy']\n",
        ")"
      ],
      "metadata": {
        "id": "YkRNKPK8e8oR"
      },
      "execution_count": 13,
      "outputs": []
    },
    {
      "cell_type": "code",
      "source": [
        "lstm_history = lstm_model.fit(\n",
        "    X_train_padded, y_train,\n",
        "    batch_size=32,\n",
        "    epochs=3,\n",
        "    validation_split=0.2,\n",
        "    verbose=1\n",
        ")"
      ],
      "metadata": {
        "colab": {
          "base_uri": "https://localhost:8080/"
        },
        "id": "cO-OqukEe9Mb",
        "outputId": "749ee4e1-9253-4bb0-c312-74463d6d0119"
      },
      "execution_count": 14,
      "outputs": [
        {
          "output_type": "stream",
          "name": "stdout",
          "text": [
            "Epoch 1/3\n",
            "\u001b[1m625/625\u001b[0m \u001b[32m━━━━━━━━━━━━━━━━━━━━\u001b[0m\u001b[37m\u001b[0m \u001b[1m90s\u001b[0m 138ms/step - accuracy: 0.5600 - loss: 0.6724 - val_accuracy: 0.7588 - val_loss: 0.5117\n",
            "Epoch 2/3\n",
            "\u001b[1m625/625\u001b[0m \u001b[32m━━━━━━━━━━━━━━━━━━━━\u001b[0m\u001b[37m\u001b[0m \u001b[1m86s\u001b[0m 138ms/step - accuracy: 0.7657 - loss: 0.5140 - val_accuracy: 0.7966 - val_loss: 0.4763\n",
            "Epoch 3/3\n",
            "\u001b[1m625/625\u001b[0m \u001b[32m━━━━━━━━━━━━━━━━━━━━\u001b[0m\u001b[37m\u001b[0m \u001b[1m86s\u001b[0m 138ms/step - accuracy: 0.8043 - loss: 0.4613 - val_accuracy: 0.8006 - val_loss: 0.4725\n"
          ]
        }
      ]
    },
    {
      "cell_type": "code",
      "source": [
        "lstm_loss, lstm_accuracy = lstm_model.evaluate(X_test_padded, y_test, verbose=0)\n",
        "print(f\"LSTM Test Accuracy: {lstm_accuracy:.4f} ({lstm_accuracy*100:.2f}%)\")"
      ],
      "metadata": {
        "colab": {
          "base_uri": "https://localhost:8080/"
        },
        "id": "n5ZiNIZhe_KM",
        "outputId": "509711fd-0e7e-4a32-8e57-e9c42b8f571b"
      },
      "execution_count": 15,
      "outputs": [
        {
          "output_type": "stream",
          "name": "stdout",
          "text": [
            "LSTM Test Accuracy: 0.8070 (80.70%)\n"
          ]
        }
      ]
    }
  ]
}