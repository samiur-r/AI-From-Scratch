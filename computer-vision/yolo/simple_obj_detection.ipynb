{
  "nbformat": 4,
  "nbformat_minor": 0,
  "metadata": {
    "colab": {
      "provenance": []
    },
    "kernelspec": {
      "name": "python3",
      "display_name": "Python 3"
    },
    "language_info": {
      "name": "python"
    }
  },
  "cells": [
    {
      "cell_type": "code",
      "source": [
        "!pip install ultralytics"
      ],
      "metadata": {
        "id": "Q52IBgcLNzp4"
      },
      "execution_count": null,
      "outputs": []
    },
    {
      "cell_type": "code",
      "execution_count": 10,
      "metadata": {
        "id": "gtTbQVs6M2Mc"
      },
      "outputs": [],
      "source": [
        "from ultralytics import YOLO"
      ]
    },
    {
      "cell_type": "code",
      "source": [
        "print(\"Loading YOLO model...\")\n",
        "model = YOLO('yolov8n.pt')\n",
        "print(\"Model loaded!\")"
      ],
      "metadata": {
        "colab": {
          "base_uri": "https://localhost:8080/"
        },
        "id": "DBOKkn0FNwWj",
        "outputId": "8be6b034-cd55-460f-db93-8c575c55be3e"
      },
      "execution_count": 11,
      "outputs": [
        {
          "output_type": "stream",
          "name": "stdout",
          "text": [
            "Loading YOLO model...\n",
            "Model loaded!\n"
          ]
        }
      ]
    },
    {
      "cell_type": "code",
      "source": [
        "image_path = \"https://ultralytics.com/images/bus.jpg\"  # Sample image\n",
        "\n",
        "print(f\"\\nDetecting objects in: {image_path}\")\n",
        "results = model(image_path)"
      ],
      "metadata": {
        "colab": {
          "base_uri": "https://localhost:8080/"
        },
        "id": "kJV0YB8RP8HS",
        "outputId": "2f065c30-4ce5-433f-8ac0-ae8db99fcdb6"
      },
      "execution_count": 12,
      "outputs": [
        {
          "output_type": "stream",
          "name": "stdout",
          "text": [
            "\n",
            "Detecting objects in: https://ultralytics.com/images/bus.jpg\n",
            "\n",
            "Found https://ultralytics.com/images/bus.jpg locally at bus.jpg\n",
            "image 1/1 /content/bus.jpg: 640x480 4 persons, 1 bus, 1 stop sign, 204.8ms\n",
            "Speed: 4.1ms preprocess, 204.8ms inference, 1.9ms postprocess per image at shape (1, 3, 640, 480)\n"
          ]
        }
      ]
    },
    {
      "cell_type": "code",
      "source": [
        "print(\"\\n\" + \"=\"*40)\n",
        "print(\"DETECTION RESULTS\")\n",
        "print(\"=\"*40)\n",
        "\n",
        "# Get the first (and only) result\n",
        "result = results[0]"
      ],
      "metadata": {
        "colab": {
          "base_uri": "https://localhost:8080/"
        },
        "id": "ijjkgRbKP9Ca",
        "outputId": "9c292a18-1a7c-4b78-ae2a-559b39432ca9"
      },
      "execution_count": 13,
      "outputs": [
        {
          "output_type": "stream",
          "name": "stdout",
          "text": [
            "\n",
            "========================================\n",
            "DETECTION RESULTS\n",
            "========================================\n"
          ]
        }
      ]
    },
    {
      "cell_type": "code",
      "source": [
        "# Check if anything was detected\n",
        "if result.boxes is not None and len(result.boxes) > 0:\n",
        "    print(f\"Found {len(result.boxes)} objects:\")\n",
        "\n",
        "    # Print each detection\n",
        "    for i, box in enumerate(result.boxes):\n",
        "        # Get the class name and confidence\n",
        "        class_id = int(box.cls[0])\n",
        "        confidence = float(box.conf[0])\n",
        "        class_name = model.names[class_id]\n",
        "\n",
        "        print(f\"  {i+1}. {class_name} ({confidence:.2f} confidence)\")\n",
        "else:\n",
        "    print(\"No objects detected\")\n"
      ],
      "metadata": {
        "colab": {
          "base_uri": "https://localhost:8080/"
        },
        "id": "kHK4QeHpQH19",
        "outputId": "24246af8-8ae3-49ad-a228-990c1180f40d"
      },
      "execution_count": 14,
      "outputs": [
        {
          "output_type": "stream",
          "name": "stdout",
          "text": [
            "Found 6 objects:\n",
            "  1. bus (0.87 confidence)\n",
            "  2. person (0.87 confidence)\n",
            "  3. person (0.85 confidence)\n",
            "  4. person (0.83 confidence)\n",
            "  5. person (0.26 confidence)\n",
            "  6. stop sign (0.26 confidence)\n"
          ]
        }
      ]
    }
  ]
}